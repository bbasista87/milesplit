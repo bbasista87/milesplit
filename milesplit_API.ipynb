{
 "cells": [
  {
   "cell_type": "code",
   "execution_count": null,
   "metadata": {
    "collapsed": false
   },
   "outputs": [],
   "source": [
    "import html5lib, lxml\n",
    "import time\n",
    "import pandas as pd\n",
    "import numpy as np\n",
    "import matplotlib.pyplot as plt\n",
    "import requests\n",
    "import hashlib\n",
    "import getpass\n",
    "\n",
    "%matplotlib inline\n",
    "\n",
    "k = requests.get(\"http://api.milesplit.com/k.json\");\n",
    "print k\n",
    "h = requests.get(\"http://api.milesplit.com/h.json\");\n",
    "print h\n",
    "password = getpass.getpass()\n",
    "md5pass = hashlib.md5(password).hexdigest()\n",
    "# print md5pass\n",
    "\n",
    "# k =\n",
    "# h =\n",
    "u = \"coachd\"\n",
    "# t = hashlib.md5(password + u + k)).hexdigest()\n",
    "# stats = requests.get(\"http://api.milesplit.com/athletes/1011497/stats\");"
   ]
  },
  {
   "cell_type": "code",
   "execution_count": null,
   "metadata": {
    "collapsed": true
   },
   "outputs": [],
   "source": []
  }
 ],
 "metadata": {
  "anaconda-cloud": {},
  "kernelspec": {
   "display_name": "Python 2",
   "language": "python",
   "name": "python2"
  },
  "language_info": {
   "codemirror_mode": {
    "name": "ipython",
    "version": 2
   },
   "file_extension": ".py",
   "mimetype": "text/x-python",
   "name": "python",
   "nbconvert_exporter": "python",
   "pygments_lexer": "ipython2",
   "version": "2.7.12"
  }
 },
 "nbformat": 4,
 "nbformat_minor": 0
}
