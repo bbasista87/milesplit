{
 "cells": [
  {
   "cell_type": "code",
   "execution_count": 1,
   "metadata": {
    "collapsed": false
   },
   "outputs": [
    {
     "data": {
      "text/html": [
       "<style>.container { width:90% !important; }</style>"
      ],
      "text/plain": [
       "<IPython.core.display.HTML object>"
      ]
     },
     "metadata": {},
     "output_type": "display_data"
    }
   ],
   "source": [
    "# Make Jupyter wider\n",
    "from IPython.core.display import display, HTML\n",
    "display(HTML(\"<style>.container { width:90% !important; }</style>\"))"
   ]
  },
  {
   "cell_type": "code",
   "execution_count": 140,
   "metadata": {
    "collapsed": false
   },
   "outputs": [
    {
     "data": {
      "text/html": [
       "\n",
       "           <script>\n",
       "               \n",
       "                function vct_load_lib(url, callback){\n",
       "                      if(typeof d3 !== 'undefined' &&\n",
       "                         url === 'http://d3js.org/d3.v3.min.js'){\n",
       "                        callback()\n",
       "                      }\n",
       "                      var s = document.createElement('script');\n",
       "                      s.src = url;\n",
       "                      s.async = true;\n",
       "                      s.onreadystatechange = s.onload = callback;\n",
       "                      s.onerror = function(){\n",
       "                        console.warn(\"failed to load library \" + url);\n",
       "                        };\n",
       "                      document.getElementsByTagName(\"head\")[0].appendChild(s);\n",
       "                };\n",
       "                var vincent_event = new CustomEvent(\n",
       "                  \"vincent_libs_loaded\",\n",
       "                  {bubbles: true, cancelable: true}\n",
       "                );\n",
       "                \n",
       "               function load_all_libs(){\n",
       "                  console.log('Loading Vincent libs...')\n",
       "                  vct_load_lib('http://d3js.org/d3.v3.min.js', function(){\n",
       "                  vct_load_lib('http://d3js.org/d3.geo.projection.v0.min.js', function(){\n",
       "                  vct_load_lib('http://wrobstory.github.io/d3-cloud/d3.layout.cloud.js', function(){\n",
       "                  vct_load_lib('http://wrobstory.github.io/vega/vega.v1.3.3.js', function(){\n",
       "                  window.dispatchEvent(vincent_event);\n",
       "                  });\n",
       "                  });\n",
       "                  });\n",
       "                  });\n",
       "               };\n",
       "               if(typeof define === \"function\" && define.amd){\n",
       "                    if (window['d3'] === undefined ||\n",
       "                        window['topojson'] === undefined){\n",
       "                        require.config(\n",
       "                            {paths: {\n",
       "                              d3: 'http://d3js.org/d3.v3.min',\n",
       "                              topojson: 'http://d3js.org/topojson.v1.min'\n",
       "                              }\n",
       "                            }\n",
       "                          );\n",
       "                        require([\"d3\"], function(d3){\n",
       "                            console.log('Loading Vincent from require.js...')\n",
       "                            window.d3 = d3;\n",
       "                            require([\"topojson\"], function(topojson){\n",
       "                                window.topojson = topojson;\n",
       "                                load_all_libs();\n",
       "                            });\n",
       "                        });\n",
       "                    } else {\n",
       "                        load_all_libs();\n",
       "                    };\n",
       "               }else{\n",
       "                    console.log('Require.js not found, loading manually...')\n",
       "                    load_all_libs();\n",
       "               };\n",
       "\n",
       "           </script>"
      ],
      "text/plain": [
       "<IPython.core.display.HTML object>"
      ]
     },
     "metadata": {},
     "output_type": "display_data"
    },
    {
     "data": {
      "text/html": [
       "<div id=\"visc5d9141566e24bd99abc126bcd88d8af\"></div>\n",
       "<script>\n",
       "   ( function() {\n",
       "     var _do_plot = function() {\n",
       "       if (typeof vg === 'undefined') {\n",
       "         window.addEventListener('vincent_libs_loaded', _do_plot)\n",
       "         return;\n",
       "       }\n",
       "       vg.parse.spec({\"axes\": [], \"data\": [{\"name\": \"table\", \"values\": [{\"x\": \"Alabama\", \"y\": 500.0}, {\"x\": \"Alaska\", \"y\": 1900.0}, {\"x\": \"Arizona\", \"y\": 4100.0}, {\"x\": \"Arkansas\", \"y\": 650.0}, {\"x\": \"California\", \"y\": 2900.0}, {\"x\": \"Colorado\", \"y\": 6800.0}, {\"x\": \"Connecticut\", \"y\": 500.0}, {\"x\": \"Delaware\", \"y\": 60.0}, {\"x\": \"District Of Columbia\", \"y\": 150.0}, {\"x\": \"Florida\", \"y\": 100.0}, {\"x\": \"Georgia\", \"y\": 600.0}, {\"x\": \"Hawaii\", \"y\": 3030.0}, {\"x\": \"Idaho\", \"y\": 5000.0}, {\"x\": \"Illinois\", \"y\": 600.0}, {\"x\": \"Indiana\", \"y\": 700.0}, {\"x\": \"Iowa\", \"y\": 1100.0}, {\"x\": \"Kansas\", \"y\": 2000.0}, {\"x\": \"Kentucky\", \"y\": 750.0}, {\"x\": \"Louisiana\", \"y\": 100.0}, {\"x\": \"Maine\", \"y\": 600.0}, {\"x\": \"Maryland\", \"y\": 350.0}, {\"x\": \"Massachusetts\", \"y\": 500.0}, {\"x\": \"Michigan\", \"y\": 900.0}, {\"x\": \"Minnesota\", \"y\": 1200.0}, {\"x\": \"Mississippi\", \"y\": 300.0}, {\"x\": \"Missouri\", \"y\": 800.0}, {\"x\": \"Montana\", \"y\": 3400.0}, {\"x\": \"Nebraska\", \"y\": 2600.0}, {\"x\": \"Nevada\", \"y\": 5500.0}, {\"x\": \"New Hampshire\", \"y\": 1000.0}, {\"x\": \"New Jersey\", \"y\": 250.0}, {\"x\": \"New Mexico\", \"y\": 5700.0}, {\"x\": \"New York\", \"y\": 1000.0}, {\"x\": \"North Carolina\", \"y\": 700.0}, {\"x\": \"North Dakota\", \"y\": 1900.0}, {\"x\": \"Ohio\", \"y\": 850.0}, {\"x\": \"Oklahoma\", \"y\": 1300.0}, {\"x\": \"Oregon\", \"y\": 3300.0}, {\"x\": \"Pennsylvania\", \"y\": 1100.0}, {\"x\": \"Rhode Island\", \"y\": 200.0}, {\"x\": \"South Carolina\", \"y\": 350.0}, {\"x\": \"South Dakota\", \"y\": 2200.0}, {\"x\": \"Tennessee\", \"y\": 900.0}, {\"x\": \"Texas\", \"y\": 1700.0}, {\"x\": \"Utah\", \"y\": 6100.0}, {\"x\": \"Vermont\", \"y\": 1000.0}, {\"x\": \"Virginia\", \"y\": 950.0}, {\"x\": \"Washington\", \"y\": 1700.0}, {\"x\": \"West Virginia\", \"y\": 1500.0}, {\"x\": \"Wisconsin\", \"y\": 1050.0}, {\"x\": \"Wyoming\", \"y\": 6700.0}]}, {\"format\": {\"feature\": \"us_states.geo\", \"type\": \"topojson\"}, \"name\": \"states\", \"transform\": [{\"as\": \"value\", \"default\": \"noval\", \"key\": \"data.properties.NAME\", \"type\": \"zip\", \"with\": \"table\", \"withKey\": \"data.x\"}, {\"test\": \"d.path!='noval' && d.value!='noval'\", \"type\": \"filter\"}, {\"projection\": \"albersUsa\", \"scale\": 1200, \"translate\": [480, 250], \"type\": \"geopath\", \"value\": \"data\"}], \"url\": \"us_states.topo.json\"}], \"height\": 500, \"legends\": [{\"fill\": \"color\", \"offset\": 0, \"properties\": {}, \"title\": \"Mean Elevation (ft)\"}], \"marks\": [{\"from\": {\"data\": \"states\"}, \"properties\": {\"enter\": {\"path\": {\"field\": \"path\"}, \"stroke\": {\"value\": \"#000000\"}, \"strokeOpacity\": {\"value\": 0.75}}, \"update\": {\"fill\": {\"field\": \"value.data.y\", \"scale\": \"color\"}}}, \"type\": \"path\"}], \"padding\": \"auto\", \"scales\": [{\"domain\": [0, 680, 1360, 2040, 2720, 3400, 4080, 4760, 5440, 6120, 6800], \"name\": \"color\", \"range\": [\"#f7fcfd\", \"#e5f5f9\", \"#ccece6\", \"#99d8c9\", \"#66c2a4\", \"#41ae76\", \"#238b45\", \"#006d2c\", \"#00441b\"], \"type\": \"linear\"}], \"width\": 960}, function(chart) {\n",
       "         chart({el: \"#visc5d9141566e24bd99abc126bcd88d8af\"}).update();\n",
       "       });\n",
       "     };\n",
       "     _do_plot();\n",
       "   })();\n",
       "</script>\n",
       "<style>.vega canvas {width: 100%;}</style>\n",
       "        "
      ],
      "text/plain": [
       "<IPython.core.display.HTML object>"
      ]
     },
     "metadata": {},
     "output_type": "display_data"
    }
   ],
   "source": [
    "## CHECK THESE LINKS\n",
    "# http://wrobstory.github.io/2013/10/mapping-data-python.html\n",
    "# https://vincent.readthedocs.io/en/latest/index.html\n",
    "# https://github.com/wrobstory/vincent\n",
    "# https://sites.google.com/site/jackgrieveaston/presentations\n",
    "\n",
    "import json\n",
    "from vincent import AxisProperties, PropertySet, ValueRef\n",
    "import pandas as pd\n",
    "import numpy as np\n",
    "import matplotlib.pyplot as plt\n",
    "\n",
    "state_topo = r'us_states.topo.json'\n",
    "\n",
    "vincent.core.initialize_notebook()\n",
    "\n",
    "data = pd.read_table('usa5kboys2.txt', delim_whitespace=True)\n",
    "\n",
    "#Make sure names match TopoJSON\n",
    "names = []\n",
    "for row in data.iterrows():\n",
    "    pieces = row[1]['NAME'].split('_')\n",
    "    together = ' '.join(pieces)\n",
    "    names.append(together.title())\n",
    "data['NAME'] = names\n",
    "\n",
    "geo_data = [{'name': 'states',\n",
    "             'url': state_topo,\n",
    "             'feature': 'us_states.geo'}]\n",
    "\n",
    "vis = vincent.Map(data=data, geo_data=geo_data, scale=1200, brew='BuGn',\n",
    "                  projection='albersUsa', data_bind='elevation', data_key='NAME',\n",
    "                  map_key={'states': 'properties.NAME'})\n",
    "\n",
    "vis.marks[0].properties.enter.stroke_opacity = ValueRef(value=0.75)\n",
    "\n",
    "vis.scales[0].type='linear'  # or, use 'threshold'?\n",
    "vis.scales[0].domain = [0, 680, 1360, 2040, 2720, 3400, 4080, 4760, 5440, 6120, 6800]\n",
    "vis.legend(title='Mean Elevation (ft)')\n",
    "vis.display()\n",
    "plt.savefig('foo.png')\n",
    "\n",
    "# vis.marks[0].grammar()"
   ]
  },
  {
   "cell_type": "code",
   "execution_count": 132,
   "metadata": {
    "collapsed": false
   },
   "outputs": [
    {
     "data": {
      "text/html": [
       "<div id=\"visbe94d17899774b2b8cab4be377707bcc\"></div>\n",
       "<script>\n",
       "   ( function() {\n",
       "     var _do_plot = function() {\n",
       "       if (typeof vg === 'undefined') {\n",
       "         window.addEventListener('vincent_libs_loaded', _do_plot)\n",
       "         return;\n",
       "       }\n",
       "       vg.parse.spec({\"axes\": [], \"data\": [{\"name\": \"table\", \"values\": [{\"x\": \"Alabama\", \"y\": 100.0}, {\"x\": \"Alaska\", \"y\": 100.0}, {\"x\": \"Arizona\", \"y\": 100.0}, {\"x\": \"Arkansas\", \"y\": -13.3}, {\"x\": \"California\", \"y\": 6.5}, {\"x\": \"Colorado\", \"y\": -0.4}, {\"x\": \"Connecticut\", \"y\": 4.0}, {\"x\": \"Delaware\", \"y\": -6.4}, {\"x\": \"District Of Columbia\", \"y\": 100.0}, {\"x\": \"Florida\", \"y\": 16.1}, {\"x\": \"Georgia\", \"y\": 17.2}, {\"x\": \"Hawaii\", \"y\": 100.0}, {\"x\": \"Idaho\", \"y\": 100.0}, {\"x\": \"Illinois\", \"y\": 17.1}, {\"x\": \"Indiana\", \"y\": 7.3}, {\"x\": \"Iowa\", \"y\": 4.7}, {\"x\": \"Kansas\", \"y\": 0.6}, {\"x\": \"Kentucky\", \"y\": -5.9}, {\"x\": \"Louisiana\", \"y\": 100.0}, {\"x\": \"Maine\", \"y\": -1.8}, {\"x\": \"Maryland\", \"y\": 100.0}, {\"x\": \"Massachusetts\", \"y\": 8.3}, {\"x\": \"Michigan\", \"y\": 5.4}, {\"x\": \"Minnesota\", \"y\": 4.5}, {\"x\": \"Mississippi\", \"y\": -13.9}, {\"x\": \"Missouri\", \"y\": 14.9}, {\"x\": \"Montana\", \"y\": 16.6}, {\"x\": \"Nebraska\", \"y\": -0.7}, {\"x\": \"Nevada\", \"y\": -6.0}, {\"x\": \"New Hampshire\", \"y\": 0.9}, {\"x\": \"New Jersey\", \"y\": -4.2}, {\"x\": \"New Mexico\", \"y\": 100.0}, {\"x\": \"New York\", \"y\": 0.3}, {\"x\": \"North Carolina\", \"y\": 1.1}, {\"x\": \"North Dakota\", \"y\": 100.0}, {\"x\": \"Ohio\", \"y\": 7.3}, {\"x\": \"Oklahoma\", \"y\": 100.0}, {\"x\": \"Oregon\", \"y\": 1.4}, {\"x\": \"Pennsylvania\", \"y\": 100.0}, {\"x\": \"Rhode Island\", \"y\": 100.0}, {\"x\": \"South Carolina\", \"y\": 100.0}, {\"x\": \"South Dakota\", \"y\": 15.9}, {\"x\": \"Tennessee\", \"y\": 100.0}, {\"x\": \"Texas\", \"y\": 3.0}, {\"x\": \"Utah\", \"y\": 17.8}, {\"x\": \"Vermont\", \"y\": -6.9}, {\"x\": \"Virginia\", \"y\": 12.7}, {\"x\": \"Washington\", \"y\": 1.5}, {\"x\": \"West Virginia\", \"y\": -10.0}, {\"x\": \"Wisconsin\", \"y\": 4.2}, {\"x\": \"Wyoming\", \"y\": 7.2}]}, {\"format\": {\"feature\": \"us_states.geo\", \"type\": \"topojson\"}, \"name\": \"states\", \"transform\": [{\"as\": \"value\", \"default\": \"noval\", \"key\": \"data.properties.NAME\", \"type\": \"zip\", \"with\": \"table\", \"withKey\": \"data.x\"}, {\"test\": \"d.path!='noval' && d.value!='noval'\", \"type\": \"filter\"}, {\"projection\": \"albersUsa\", \"scale\": 1200, \"translate\": [480, 250], \"type\": \"geopath\", \"value\": \"data\"}], \"url\": \"us_states.topo.json\"}], \"height\": 500, \"legends\": [{\"fill\": \"color\", \"offset\": 0, \"properties\": {}, \"title\": \"% deviation from national average\"}], \"marks\": [{\"from\": {\"data\": \"states\"}, \"properties\": {\"enter\": {\"path\": {\"field\": \"path\"}, \"stroke\": {\"value\": \"#000000\"}}, \"update\": {\"fill\": {\"field\": \"value.data.y\", \"scale\": \"color\"}}}, \"type\": \"path\"}], \"padding\": \"auto\", \"scales\": [{\"domain\": [-25, -20, -15, -10, -5, 0, 5, 10, 15, 20, 25], \"name\": \"color\", \"range\": [\"#a50026\", \"#d73027\", \"#f46d43\", \"#fdae61\", \"#fee08b\", \"#ffffbf\", \"#d9ef8b\", \"#a6d96a\", \"#66bd63\", \"#1a9850\", \"#006837\"], \"type\": \"linear\"}], \"width\": 960}, function(chart) {\n",
       "         chart({el: \"#visbe94d17899774b2b8cab4be377707bcc\"}).update();\n",
       "       });\n",
       "     };\n",
       "     _do_plot();\n",
       "   })();\n",
       "</script>\n",
       "<style>.vega canvas {width: 100%;}</style>\n",
       "        "
      ],
      "text/plain": [
       "<IPython.core.display.HTML object>"
      ]
     },
     "metadata": {},
     "output_type": "display_data"
    }
   ],
   "source": [
    "vis = vincent.Map(data=data, geo_data=geo_data, scale=1200, brew='BuGn',\n",
    "                  projection='albersUsa', data_bind='elevation', data_key='NAME',\n",
    "                  map_key={'states': 'properties.NAME'})\n",
    "\n",
    "# year = ['2000','2001','2002','2003','2004','2005','2006','2007','2008','2009','2010','2011','2012','2013','2014','2015','2016']\n",
    "year = ['2000']\n",
    "\n",
    "for yr in year:\n",
    "    vis.rebind(column = yr, brew='RdYlGn')\n",
    "    vis.scales[0].type='linear'  # or, use 'threshold'?\n",
    "    vis.scales[0].domain = [-25, -20, -15, -10, -5, 0, 5, 10, 15, 20, 25]\n",
    "    vis.legend(title='% deviation from national average')\n",
    "#     vis.legends[0].properties.legend.stroke_width = ValueRef(value = 1.5)\n",
    "# vis.marks[0].properties.enter.stroke_opacity = ValueRef(value=0.75)\n",
    "    vis.display()"
   ]
  },
  {
   "cell_type": "code",
   "execution_count": null,
   "metadata": {
    "collapsed": true
   },
   "outputs": [],
   "source": []
  }
 ],
 "metadata": {
  "anaconda-cloud": {},
  "kernelspec": {
   "display_name": "Python [conda root]",
   "language": "python",
   "name": "conda-root-py"
  },
  "language_info": {
   "codemirror_mode": {
    "name": "ipython",
    "version": 2
   },
   "file_extension": ".py",
   "mimetype": "text/x-python",
   "name": "python",
   "nbconvert_exporter": "python",
   "pygments_lexer": "ipython2",
   "version": "2.7.12"
  }
 },
 "nbformat": 4,
 "nbformat_minor": 0
}
